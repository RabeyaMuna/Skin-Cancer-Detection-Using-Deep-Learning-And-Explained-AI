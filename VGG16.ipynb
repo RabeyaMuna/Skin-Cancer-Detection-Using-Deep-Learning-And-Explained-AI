{
 "cells": [
  {
   "cell_type": "code",
   "execution_count": 1,
   "id": "fc69f169",
   "metadata": {},
   "outputs": [
    {
     "name": "stdout",
     "output_type": "stream",
     "text": [
      "\u001b[33mWARNING: Running pip as the 'root' user can result in broken permissions and conflicting behaviour with the system package manager. It is recommended to use a virtual environment instead: https://pip.pypa.io/warnings/venv\u001b[0m\u001b[33m\n",
      "\u001b[0mNote: you may need to restart the kernel to use updated packages.\n",
      "\n",
      "WARNING: apt does not have a stable CLI interface. Use with caution in scripts.\n",
      "\n",
      "\n",
      "WARNING: apt does not have a stable CLI interface. Use with caution in scripts.\n",
      "\n"
     ]
    }
   ],
   "source": [
    "%pip install opencv-python > /dev/null\n",
    "!apt update > /dev/null\n",
    "!apt install ffmpeg libsm6 libxext6  -y > /dev/null"
   ]
  },
  {
   "cell_type": "code",
   "execution_count": 2,
   "id": "c4c8c362",
   "metadata": {},
   "outputs": [],
   "source": [
    "import tensorflow as tf\n",
    "from tensorflow.keras.models import Model, Sequential\n",
    "from tensorflow.keras.layers import Activation, Dense, BatchNormalization, concatenate, Dropout, Conv2D, Conv2DTranspose, MaxPooling2D, UpSampling2D, Input, Reshape\n",
    "from tensorflow.keras.callbacks import EarlyStopping\n",
    "from tensorflow.keras.layers import SpatialDropout2D\n",
    "from tensorflow.keras import backend as K\n",
    "from tensorflow.keras.optimizers import Adam, RMSprop\n",
    "import numpy as np\n",
    "import pandas as pd\n",
    "import glob\n",
    "import PIL\n",
    "from PIL import Image\n",
    "import matplotlib.pyplot as plt\n",
    "import cv2\n",
    "%matplotlib inline\n",
    "import os\n",
    "from tensorflow.keras.preprocessing.image import ImageDataGenerator\n",
    "from tensorflow.keras.layers import Dense, Flatten, Dropout\n",
    "from tensorflow.keras.applications.vgg16 import VGG16\n",
    "from tensorflow.keras import layers\n",
    "from tensorflow.keras.preprocessing.image import ImageDataGenerator\n",
    "from sklearn.model_selection import train_test_split\n",
    "from warnings import filterwarnings\n",
    "from tensorflow.keras.models import load_model\n",
    "import itertools \n",
    "filterwarnings('ignore')\n",
    "from sklearn.metrics import classification_report, confusion_matrix"
   ]
  },
  {
   "cell_type": "code",
   "execution_count": 3,
   "id": "6c418867",
   "metadata": {},
   "outputs": [
    {
     "name": "stderr",
     "output_type": "stream",
     "text": [
      "2022-04-26 11:12:48.864778: I tensorflow/stream_executor/cuda/cuda_gpu_executor.cc:952] successful NUMA node read from SysFS had negative value (-1), but there must be at least one NUMA node, so returning NUMA node zero\n",
      "2022-04-26 11:12:48.942657: I tensorflow/stream_executor/cuda/cuda_gpu_executor.cc:952] successful NUMA node read from SysFS had negative value (-1), but there must be at least one NUMA node, so returning NUMA node zero\n",
      "2022-04-26 11:12:48.942840: I tensorflow/stream_executor/cuda/cuda_gpu_executor.cc:952] successful NUMA node read from SysFS had negative value (-1), but there must be at least one NUMA node, so returning NUMA node zero\n"
     ]
    }
   ],
   "source": [
    "gpus = tf.config.experimental.list_physical_devices('GPU')\n",
    "for gpu in gpus:\n",
    "    tf.config.experimental.set_memory_growth(gpu, True)"
   ]
  },
  {
   "cell_type": "code",
   "execution_count": 4,
   "id": "85d0d17f",
   "metadata": {},
   "outputs": [],
   "source": [
    "\n",
    "# from tensorflow.keras.mixed_precision import experimental as mixed_precision\n",
    "# policy = mixed_precision.Policy('mixed_float16')\n",
    "# mixed_precision.set_policy(policy)\n",
    "# print('Compute dtype: %s' % policy.compute_dtype)\n",
    "# print('Variable dtype: %s' % policy.variable_dtype)\n"
   ]
  },
  {
   "cell_type": "code",
   "execution_count": 5,
   "id": "5b119b02",
   "metadata": {},
   "outputs": [],
   "source": [
    "train_dir =\"train\"\n",
    "val_dir = \"val\"\n",
    "test_dir=\"test\"\n",
    "labels = ['benign', 'malignant']\n",
    "label_np=np.array(labels)"
   ]
  },
  {
   "cell_type": "code",
   "execution_count": 6,
   "id": "9b2ab612",
   "metadata": {},
   "outputs": [],
   "source": [
    "import tensorflow as tf\n",
    "import numpy as np\n",
    "import os\n",
    "import random\n",
    "\n",
    "\n",
    "def set_seed(seed):\n",
    "    tf.random.set_seed(seed)\n",
    "    os.environ['PYTHONHASHSEED'] = str(seed)\n",
    "    np.random.seed(seed)\n",
    "    random.seed(seed)\n",
    "\n",
    "\n",
    "seed = 101\n",
    "set_seed(seed)"
   ]
  },
  {
   "cell_type": "code",
   "execution_count": 7,
   "id": "448d17e6",
   "metadata": {},
   "outputs": [
    {
     "name": "stderr",
     "output_type": "stream",
     "text": [
      "2022-04-26 11:12:49.141288: I tensorflow/core/platform/cpu_feature_guard.cc:152] This TensorFlow binary is optimized with oneAPI Deep Neural Network Library (oneDNN) to use the following CPU instructions in performance-critical operations:  SSE3 SSE4.1 SSE4.2 AVX\n",
      "To enable them in other operations, rebuild TensorFlow with the appropriate compiler flags.\n",
      "2022-04-26 11:12:49.142011: I tensorflow/stream_executor/cuda/cuda_gpu_executor.cc:952] successful NUMA node read from SysFS had negative value (-1), but there must be at least one NUMA node, so returning NUMA node zero\n",
      "2022-04-26 11:12:49.142221: I tensorflow/stream_executor/cuda/cuda_gpu_executor.cc:952] successful NUMA node read from SysFS had negative value (-1), but there must be at least one NUMA node, so returning NUMA node zero\n",
      "2022-04-26 11:12:49.142435: I tensorflow/stream_executor/cuda/cuda_gpu_executor.cc:952] successful NUMA node read from SysFS had negative value (-1), but there must be at least one NUMA node, so returning NUMA node zero\n",
      "2022-04-26 11:12:49.999261: I tensorflow/stream_executor/cuda/cuda_gpu_executor.cc:952] successful NUMA node read from SysFS had negative value (-1), but there must be at least one NUMA node, so returning NUMA node zero\n",
      "2022-04-26 11:12:49.999467: I tensorflow/stream_executor/cuda/cuda_gpu_executor.cc:952] successful NUMA node read from SysFS had negative value (-1), but there must be at least one NUMA node, so returning NUMA node zero\n",
      "2022-04-26 11:12:49.999762: I tensorflow/stream_executor/cuda/cuda_gpu_executor.cc:952] successful NUMA node read from SysFS had negative value (-1), but there must be at least one NUMA node, so returning NUMA node zero\n",
      "2022-04-26 11:12:50.000163: I tensorflow/core/common_runtime/gpu/gpu_device.cc:1525] Created device /job:localhost/replica:0/task:0/device:GPU:0 with 7377 MB memory:  -> device: 0, name: NVIDIA GeForce RTX 3080, pci bus id: 0000:27:00.0, compute capability: 8.6\n"
     ]
    },
    {
     "name": "stdout",
     "output_type": "stream",
     "text": [
      "Downloading data from https://storage.googleapis.com/tensorflow/keras-applications/vgg16/vgg16_weights_tf_dim_ordering_tf_kernels_notop.h5\n",
      "58892288/58889256 [==============================] - 24s 0us/step\n",
      "58900480/58889256 [==============================] - 24s 0us/step\n"
     ]
    }
   ],
   "source": [
    "model1 = VGG16(include_top=False,input_shape=(224, 224,3), weights='imagenet')\n",
    "input_shape = (224, 224)"
   ]
  },
  {
   "cell_type": "code",
   "execution_count": 8,
   "id": "c287f8f3",
   "metadata": {},
   "outputs": [
    {
     "name": "stdout",
     "output_type": "stream",
     "text": [
      "Found 4065 images belonging to 2 classes.\n",
      "Found 508 images belonging to 2 classes.\n",
      "Found 508 images belonging to 2 classes.\n"
     ]
    }
   ],
   "source": [
    "datagen_train = ImageDataGenerator(rescale=1./255,\n",
    "                                  width_shift_range=0.1,\n",
    "                                  height_shift_range=0.1,\n",
    "                                  horizontal_flip=True,\n",
    "                                  vertical_flip=False)\n",
    "\n",
    "\n",
    "\n",
    "datagen_test = ImageDataGenerator(rescale=1./255)\n",
    "\n",
    "datagen_val=ImageDataGenerator(rescale=1./255)\n",
    "\n",
    "batch_size = 16\n",
    "generator_train = datagen_train.flow_from_directory(directory=train_dir,\n",
    "                                                    target_size=input_shape,\n",
    "                                                    batch_size=batch_size,                                        \n",
    "                                                    shuffle=True)\n",
    "\n",
    "generator_val = datagen_val.flow_from_directory(directory=val_dir,\n",
    "                                                  target_size=input_shape,\n",
    "                                                  batch_size=batch_size,\n",
    "                                                  shuffle=False)\n",
    "generator_test=datagen_test.flow_from_directory(directory=test_dir,\n",
    "                                                  target_size=input_shape,\n",
    "                                                 batch_size=batch_size,\n",
    "                                                 shuffle=False)"
   ]
  },
  {
   "cell_type": "code",
   "execution_count": 9,
   "id": "ffa02ed5",
   "metadata": {},
   "outputs": [],
   "source": [
    "def print_layer_trainable():\n",
    "    for layer in model1.layers:\n",
    "        print(\"{0}:\\t{1}\".format(layer.trainable, layer.name))\n",
    "\n",
    "\n",
    "# print_layer_trainable()"
   ]
  },
  {
   "cell_type": "code",
   "execution_count": 10,
   "id": "bba86b11",
   "metadata": {},
   "outputs": [],
   "source": [
    "headModel = model1.output\n",
    "headModel = layers.Flatten()(headModel)\n",
    "#headModel = Dense(1024, activation=\"relu\")(headModel)\n",
    "headModel = Dense(512, activation=\"relu\", dtype='float32')(headModel)\n",
    "headModel = Dropout(0.5)(headModel)\n",
    "headModel = Dense(2, activation=\"sigmoid\")(headModel)\n",
    "model = Model(inputs=model1.input, outputs=headModel)\n",
    "# model.summary()"
   ]
  },
  {
   "cell_type": "code",
   "execution_count": 11,
   "id": "79a19a41",
   "metadata": {},
   "outputs": [],
   "source": [
    "optimizer = Adam(lr=1e-5)\n",
    "loss = 'categorical_crossentropy'\n",
    "metrics = ['categorical_accuracy','accuracy','Precision','Recall']\n",
    "\n",
    "\n",
    "model.compile(optimizer=optimizer, loss=loss, metrics=metrics)"
   ]
  },
  {
   "cell_type": "code",
   "execution_count": 12,
   "id": "1a78cf9b",
   "metadata": {
    "scrolled": false
   },
   "outputs": [
    {
     "name": "stdout",
     "output_type": "stream",
     "text": [
      "Epoch 1/100\n"
     ]
    },
    {
     "name": "stderr",
     "output_type": "stream",
     "text": [
      "2022-04-26 11:13:17.901777: I tensorflow/stream_executor/cuda/cuda_dnn.cc:379] Loaded cuDNN version 8303\n",
      "2022-04-26 11:13:19.832697: I tensorflow/stream_executor/cuda/cuda_blas.cc:1804] TensorFloat-32 will be used for the matrix multiplication. This will only be logged once.\n"
     ]
    },
    {
     "name": "stdout",
     "output_type": "stream",
     "text": [
      "254/254 [==============================] - 46s 157ms/step - loss: 0.5282 - categorical_accuracy: 0.7518 - accuracy: 0.7518 - precision: 0.6782 - recall: 0.8145 - val_loss: 0.5337 - val_categorical_accuracy: 0.7579 - val_accuracy: 0.7579 - val_precision: 0.7180 - val_recall: 0.8169\n",
      "Epoch 2/100\n",
      "254/254 [==============================] - 39s 154ms/step - loss: 0.4260 - categorical_accuracy: 0.8020 - accuracy: 0.8020 - precision: 0.7137 - recall: 0.8898 - val_loss: 0.3843 - val_categorical_accuracy: 0.8150 - val_accuracy: 0.8150 - val_precision: 0.7402 - val_recall: 0.9252\n",
      "Epoch 3/100\n",
      "254/254 [==============================] - 39s 151ms/step - loss: 0.3895 - categorical_accuracy: 0.8253 - accuracy: 0.8253 - precision: 0.7166 - recall: 0.9137 - val_loss: 0.3792 - val_categorical_accuracy: 0.8346 - val_accuracy: 0.8346 - val_precision: 0.7468 - val_recall: 0.9173\n",
      "Epoch 4/100\n",
      "254/254 [==============================] - 39s 153ms/step - loss: 0.3630 - categorical_accuracy: 0.8337 - accuracy: 0.8337 - precision: 0.7459 - recall: 0.9112 - val_loss: 0.3709 - val_categorical_accuracy: 0.8346 - val_accuracy: 0.8346 - val_precision: 0.7537 - val_recall: 0.9094\n",
      "Epoch 5/100\n",
      "254/254 [==============================] - 39s 152ms/step - loss: 0.3480 - categorical_accuracy: 0.8433 - accuracy: 0.8433 - precision: 0.7615 - recall: 0.9183 - val_loss: 0.3613 - val_categorical_accuracy: 0.8346 - val_accuracy: 0.8346 - val_precision: 0.7715 - val_recall: 0.9173\n",
      "Epoch 6/100\n",
      "254/254 [==============================] - 39s 154ms/step - loss: 0.3379 - categorical_accuracy: 0.8504 - accuracy: 0.8504 - precision: 0.7771 - recall: 0.9132 - val_loss: 0.3511 - val_categorical_accuracy: 0.8366 - val_accuracy: 0.8366 - val_precision: 0.7576 - val_recall: 0.9291\n",
      "Epoch 7/100\n",
      "254/254 [==============================] - 39s 153ms/step - loss: 0.3163 - categorical_accuracy: 0.8600 - accuracy: 0.8600 - precision: 0.7794 - recall: 0.9215 - val_loss: 0.3545 - val_categorical_accuracy: 0.8484 - val_accuracy: 0.8484 - val_precision: 0.7484 - val_recall: 0.9193\n",
      "Epoch 8/100\n",
      "254/254 [==============================] - 39s 153ms/step - loss: 0.3090 - categorical_accuracy: 0.8600 - accuracy: 0.8600 - precision: 0.7648 - recall: 0.9385 - val_loss: 0.3689 - val_categorical_accuracy: 0.8287 - val_accuracy: 0.8287 - val_precision: 0.7346 - val_recall: 0.9370\n",
      "Epoch 9/100\n",
      "254/254 [==============================] - 40s 156ms/step - loss: 0.2925 - categorical_accuracy: 0.8701 - accuracy: 0.8701 - precision: 0.7660 - recall: 0.9422 - val_loss: 0.3280 - val_categorical_accuracy: 0.8425 - val_accuracy: 0.8425 - val_precision: 0.7579 - val_recall: 0.9429\n",
      "Epoch 10/100\n",
      "254/254 [==============================] - 40s 155ms/step - loss: 0.2777 - categorical_accuracy: 0.8772 - accuracy: 0.8772 - precision: 0.7762 - recall: 0.9434 - val_loss: 0.3635 - val_categorical_accuracy: 0.8524 - val_accuracy: 0.8524 - val_precision: 0.7633 - val_recall: 0.9331\n",
      "Epoch 11/100\n",
      "254/254 [==============================] - 40s 156ms/step - loss: 0.2511 - categorical_accuracy: 0.8930 - accuracy: 0.8930 - precision: 0.7970 - recall: 0.9464 - val_loss: 0.3453 - val_categorical_accuracy: 0.8406 - val_accuracy: 0.8406 - val_precision: 0.7759 - val_recall: 0.9134\n",
      "Epoch 12/100\n",
      "254/254 [==============================] - 40s 156ms/step - loss: 0.2328 - categorical_accuracy: 0.8959 - accuracy: 0.8959 - precision: 0.8135 - recall: 0.9474 - val_loss: 0.3906 - val_categorical_accuracy: 0.8583 - val_accuracy: 0.8583 - val_precision: 0.7805 - val_recall: 0.9311\n"
     ]
    }
   ],
   "source": [
    "from tensorflow.keras.callbacks import EarlyStopping\n",
    "\n",
    "epochs = 100\n",
    "\n",
    "steps_per_epoch = generator_train.n / batch_size\n",
    "steps_test = generator_test.n / batch_size\n",
    "\n",
    "#steps_per_epoch = 20\n",
    "#steps_test = 50\n",
    "early_stop = EarlyStopping(patience=3)\n",
    "history = model.fit_generator(generator=generator_train,\n",
    "                              epochs=epochs,\n",
    "                              steps_per_epoch=steps_per_epoch,\n",
    "                              validation_data=generator_val,\n",
    "                              validation_steps=steps_test,\n",
    "                              callbacks=[early_stop])\n"
   ]
  },
  {
   "cell_type": "code",
   "execution_count": 13,
   "id": "d3fd46dc",
   "metadata": {},
   "outputs": [],
   "source": [
    "model.save(\"VGG16.h5\")"
   ]
  },
  {
   "cell_type": "markdown",
   "id": "9cc2caec",
   "metadata": {},
   "source": [
    "from __future__ import absolute_import\n",
    "from __future__ import division\n",
    "from __future__ import print_function\n",
    "\n",
    "import keras_applications\n",
    "\n",
    "from tensorflow.python.keras import backend\n",
    "from tensorflow.python.keras import engine\n",
    "from tensorflow.python.keras import layers\n",
    "from tensorflow.python.keras import models\n",
    "from tensorflow.python.keras import utils\n",
    "from tensorflow.python.util import tf_inspect\n",
    "\n",
    "\n",
    "def keras_modules_injection(base_fun):\n",
    "  \"\"\"Decorator injecting tf.keras replacements for Keras modules.\n",
    "  Arguments:\n",
    "      base_fun: Application function to decorate (e.g. `MobileNet`).\n",
    "  Returns:\n",
    "      Decorated function that injects keyword argument for the tf.keras\n",
    "      modules required by the Applications.\n",
    "  \"\"\"\n",
    "\n",
    "  def wrapper(*args, **kwargs):\n",
    "    kwargs['backend'] = backend\n",
    "    if 'layers' not in kwargs:\n",
    "      kwargs['layers'] = layers\n",
    "    kwargs['models'] = models\n",
    "    kwargs['utils'] = utils\n",
    "    return base_fun(*args, **kwargs)\n",
    "  return wrapper\n"
   ]
  },
  {
   "cell_type": "markdown",
   "id": "2b4f98f7",
   "metadata": {},
   "source": [
    "\n",
    "CLASS_INDEX = None\n",
    "@keras_modules_injection\n",
    "def test_my_decode_predictions(*args, **kwargs):\n",
    "    return my_decode_predictions(*args, **kwargs)\n",
    "\n",
    "\n",
    "def my_decode_predictions(preds, top=5, **kwargs):\n",
    "    global CLASS_INDEX\n",
    "\n",
    "    backend, _, _, keras_utils = get_submodules_from_kwargs(kwargs)\n",
    "\n",
    "    # if len(preds.shape) != 2 or preds.shape[1] != 1000:\n",
    "    #     raise ValueError('`decode_predictions` expects '\n",
    "    #                      'a batch of predictions '\n",
    "    #                      '(i.e. a 2D array of shape (samples, 1000)). '\n",
    "    #                      'Found array with shape: ' + str(preds.shape))\n",
    "    if CLASS_INDEX is None:\n",
    "        fpath = keras_utils.get_file(\n",
    "            'imagenet_class_index.json',\n",
    "            CLASS_INDEX_PATH,\n",
    "            cache_subdir='models',\n",
    "            file_hash='c2c37ea517e94d9795004a39431a14cb')\n",
    "        with open(fpath) as f:\n",
    "            CLASS_INDEX = json.load(f)\n",
    "    results = []\n",
    "    for pred in preds:\n",
    "        top_indices = pred.argsort()[-top:][::-1]\n",
    "        result = [tuple(CLASS_INDEX[str(i)]) + (pred[i],) for i in top_indices]\n",
    "        result.sort(key=lambda x: x[2], reverse=True)\n",
    "        results.append(result)\n",
    "    return results\n",
    "\n",
    "\n",
    "print('Predicted: ', test_my_decode_predictions(pred, top=10))"
   ]
  },
  {
   "cell_type": "code",
   "execution_count": 14,
   "id": "bb22135c",
   "metadata": {},
   "outputs": [],
   "source": [
    "# img = Image.open(\"test/benign/24.jpg\") \n",
    "# img = img.resize((224,224)) \n",
    "# img = np.array(img) \n",
    "# img = img / 255.0 \n",
    "# img = img.reshape(1,224,224,3) \n",
    "# #base_model = inc_net.InceptionV3(weights='imagenet', include_top=False)\n",
    "# preds = model.predict(img) \n",
    "# for x in decode_predictions(preds)[0]: \n",
    "#     print(x)\n"
   ]
  },
  {
   "cell_type": "code",
   "execution_count": 15,
   "id": "6fe43dcb",
   "metadata": {},
   "outputs": [
    {
     "name": "stdout",
     "output_type": "stream",
     "text": [
      "[INFO] accuracy: 91.25%\n",
      "[INFO] Loss: 22.15%\n"
     ]
    }
   ],
   "source": [
    "#Get the accuracy score\n",
    "\n",
    "test_score = model.evaluate_generator(generator_test,20)\n",
    "\n",
    "\n",
    "\n",
    "print(\"[INFO] accuracy: {:.2f}%\".format(test_score[1] * 100)) \n",
    "\n",
    "print(\"[INFO] Loss: {:.2f}%\".format(test_score[0] * 100)) "
   ]
  },
  {
   "cell_type": "code",
   "execution_count": null,
   "id": "83b197f2",
   "metadata": {},
   "outputs": [
    {
     "data": {
      "image/png": "[encoded data removed]",
      "text/plain": [
       "<Figure size 720x720 with 2 Axes>"
      ]
     },
     "metadata": {
      "needs_background": "light"
     },
     "output_type": "display_data"
    }
   ],
   "source": [
    "import seaborn as sn\n",
    "import pandas as pd\n",
    "import matplotlib.pyplot as plt\n",
    "from sklearn.metrics import confusion_matrix\n",
    "Y_pred = model.predict_generator(generator_val)\n",
    "y_pred = np.argmax(Y_pred, axis=1)\n",
    "array = confusion_matrix(generator_val.classes, y_pred)\n",
    "df_cm = pd.DataFrame(array, index =['benign', 'malignant'],\n",
    "                  columns = ['benign', 'malignant'])\n",
    "plt.figure(figsize=(10,10))\n",
    "sn.set(font_scale=2)\n",
    "sn.heatmap(df_cm, annot=True, cmap='Blues', fmt='g')\n",
    "plt.ylabel('True label')\n",
    "plt.xlabel('Predicted label')\n",
    "plt.title('Confusion matrix of VGG16')\n",
    "plt.tight_layout()\n",
    "plt.savefig('VGG16_confusion',dpi=200); \n",
    "plt.show()"
   ]
  },
  {
   "cell_type": "code",
   "execution_count": null,
   "id": "d5911487",
   "metadata": {},
   "outputs": [],
   "source": [
    "# def plot_confusion_matrix(cm, classes, normalize=True, title='Confusion matrix of VGG16', cmap=plt.cm.Blues):\n",
    "\n",
    "\n",
    "#     plt.figure(figsize=(8,8))\n",
    "\n",
    "#     plt.imshow(cm, interpolation='nearest', cmap=cmap)\n",
    "\n",
    "#     plt.title(title)\n",
    "\n",
    "#     plt.colorbar()\n",
    "\n",
    "\n",
    "\n",
    "#     tick_marks = np.arange(len(classes))\n",
    "\n",
    "#     plt.xticks(tick_marks, classes, rotation=45)\n",
    "\n",
    "#     plt.yticks(tick_marks, classes)\n",
    "\n",
    "\n",
    "\n",
    "#     if normalize:\n",
    "\n",
    "#         #cm = cm.astype('float') / cm.sum(axis=1)[:, np.newaxis]\n",
    "\n",
    "#         #cm = np.around(cm, decimals=2)\n",
    "\n",
    "#         #cm[np.isnan(cm)] = 0.0\n",
    "\n",
    "#         print(\"Normalized confusion matrix\")\n",
    "\n",
    "#     else:\n",
    "\n",
    "#         print('Confusion matrix, without normalization')\n",
    "\n",
    "#     thresh = cm.max() / 2.\n",
    "\n",
    "#     for i, j in itertools.product(range(cm.shape[0]), range(cm.shape[1])):\n",
    "\n",
    "#         plt.text(j, i, cm[i, j],\n",
    "\n",
    "#                  horizontalalignment=\"center\",\n",
    "\n",
    "#                  color=\"white\" if cm[i, j] > thresh else \"black\")\n",
    "\n",
    "#     plt.tight_layout()\n",
    "\n",
    "#     plt.ylabel('True label')\n",
    "\n",
    "#     plt.xlabel('Predicted label')"
   ]
  },
  {
   "cell_type": "code",
   "execution_count": null,
   "id": "bf473ea5",
   "metadata": {},
   "outputs": [],
   "source": [
    "target_names = []\n",
    "\n",
    "for key in generator_train.class_indices:\n",
    "\n",
    "    target_names.append(key)\n",
    "\n",
    "\n",
    "\n",
    "print(target_names)"
   ]
  },
  {
   "cell_type": "code",
   "execution_count": null,
   "id": "80e2d91d",
   "metadata": {
    "scrolled": true
   },
   "outputs": [],
   "source": [
    "# Y_pred = model.predict_generator(generator_test)\n",
    "\n",
    "# y_pred = np.argmax(Y_pred, axis=1)\n",
    "\n",
    "# print('Confusion Matrix')\n",
    "\n",
    "# cm = confusion_matrix(generator_test.classes, y_pred)\n",
    "\n",
    "# plot_confusion_matrix(cm, target_names, title='Confusion matrix of VGG16')\n",
    "# print(cm)"
   ]
  },
  {
   "cell_type": "code",
   "execution_count": null,
   "id": "c227c6a1",
   "metadata": {},
   "outputs": [],
   "source": [
    "fig, ax = plt.subplots(1, 4, figsize=(30, 3))\n",
    "ax = ax.ravel()\n",
    "\n",
    "for i, met in enumerate(['precision', 'recall','accuracy',  'loss']):\n",
    "    ax[i].plot(history.history[met])\n",
    "    ax[i].plot(history.history['val_' + met])\n",
    "    ax[i].set_title('Model {}'.format(met))\n",
    "    ax[i].set_xlabel('epochs')\n",
    "    ax[i].set_ylabel(met)\n",
    "    ax[i].legend(['train', 'val'])"
   ]
  },
  {
   "cell_type": "code",
   "execution_count": null,
   "id": "77188e9e",
   "metadata": {},
   "outputs": [],
   "source": [
    "preds = model.predict_generator(generator_test)\n",
    "print(preds)"
   ]
  },
  {
   "cell_type": "code",
   "execution_count": null,
   "id": "365a9fda",
   "metadata": {},
   "outputs": [],
   "source": [
    "print(classification_report(generator_test.classes, y_pred))"
   ]
  },
  {
   "cell_type": "code",
   "execution_count": null,
   "id": "1d221aa8",
   "metadata": {},
   "outputs": [],
   "source": [
    "Tp=124\n",
    "Tn=255\n",
    "Fp=1\n",
    "Fn=2\n",
    "\n",
    "sensitivity=Tp/(Tp+Fn)\n",
    "specificity=Tn/(Tn+Fp)\n",
    "print(\"[INFO] Sensitivity: {:.2f}%\".format(sensitivity * 100)) \n",
    "print(\"[INFO] Specificity: {:.2f}%\".format(specificity * 100)) "
   ]
  },
  {
   "cell_type": "code",
   "execution_count": null,
   "id": "c6325ffc",
   "metadata": {},
   "outputs": [],
   "source": [
    "predicted_class_indices=np.argmax(preds,axis=1)\n",
    "a=0\n",
    "b=0\n",
    "for x in predicted_class_indices:\n",
    "    if x==0:\n",
    "        a+=1\n",
    "    else:\n",
    "        b+=1\n",
    "print(a,\" \",b)"
   ]
  },
  {
   "cell_type": "code",
   "execution_count": null,
   "id": "4af696f2",
   "metadata": {},
   "outputs": [],
   "source": [
    "predicted_class_indices"
   ]
  },
  {
   "cell_type": "code",
   "execution_count": null,
   "id": "b59624a5",
   "metadata": {},
   "outputs": [],
   "source": [
    "fig, ax = plt.subplots(1, 2, figsize=(20, 5))\n",
    "ax = ax.ravel()\n",
    "\n",
    "for i, met in enumerate(['precision', 'recall']):\n",
    "    ax[i].plot(history.history[met])\n",
    "    ax[i].plot(history.history['val_' + met])\n",
    "    ax[i].set_title('Model {}'.format(met))\n",
    "    ax[i].set_xlabel('epochs')\n",
    "    ax[i].set_ylabel(met)\n",
    "    ax[i].grid(color = '#e0e0eb')\n",
    "    ax[i].legend(['train', 'val'])"
   ]
  },
  {
   "cell_type": "code",
   "execution_count": null,
   "id": "33308705",
   "metadata": {},
   "outputs": [],
   "source": [
    "\n",
    "fig, ax = plt.subplots(1, 2, figsize=(20, 5))\n",
    "ax = ax.ravel()\n",
    "for i, met in enumerate([ 'categorical_accuracy', 'loss']):\n",
    "    ax[i].plot(history.history[met])\n",
    "    ax[i].plot(history.history['val_' + met])\n",
    "    ax[i].set_title('VGG16 Model {}'.format(met))\n",
    "    ax[i].set_xlabel('epochs')\n",
    "    ax[i].set_ylabel(met)\n",
    "    ax[i].grid(color = '#e0e0eb')\n",
    "    ax[i].legend(['train', 'val'],loc='best')\n",
    "plt.show()"
   ]
  },
  {
   "cell_type": "code",
   "execution_count": null,
   "id": "d69ab681",
   "metadata": {},
   "outputs": [],
   "source": [
    "\n",
    "plt.figure(figsize=(8, 5))\n",
    "ax = plt.axes()\n",
    "ax.set_facecolor(\"#eaeaf2\")\n",
    "plt.plot(history.history['accuracy'],label=\"train accuracy\")\n",
    "plt.plot(history.history['val_accuracy'],label=\"val accuracy\")\n",
    "plt.title('VGG16 model accuracy')\n",
    "plt.ylabel('accuracy')\n",
    "plt.xlabel('epoch')\n",
    "plt.legend()\n",
    "plt.grid(color = 'w')\n",
    "plt.savefig('VGG16_accuracy',dpi=200); \n",
    "plt.show()\n"
   ]
  },
  {
   "cell_type": "code",
   "execution_count": null,
   "id": "b9ce1afb",
   "metadata": {},
   "outputs": [],
   "source": [
    "plt.figure(figsize=(8, 5))\n",
    "\n",
    "ax = plt.axes()\n",
    "ax.set_facecolor(\"#eaeaf2\")\n",
    "plt.plot(history.history['loss'],label=\"train loss\")\n",
    "plt.plot(history.history['val_loss'],label=\"val loss\")\n",
    "plt.title('VGG16 model loss')\n",
    "plt.ylabel('loss')\n",
    "plt.xlabel('epoch')\n",
    "plt.legend()\n",
    "plt.grid(color = 'w')\n",
    "plt.savefig('VGG16_loss',dpi=200); \n",
    "plt.show()"
   ]
  },
  {
   "cell_type": "code",
   "execution_count": null,
   "id": "f093479b",
   "metadata": {},
   "outputs": [],
   "source": [
    "from sklearn.metrics import roc_auc_score,roc_curve\n",
    "r_probs = [0 for _ in range(len(generator_test.classes))]\n",
    "r_auc = roc_auc_score(generator_test.classes, r_probs)\n",
    "r_rfpr, r_trpr, rthresh = roc_curve(generator_test.classes, r_probs)\n",
    "fpr = {}\n",
    "tpr = {}\n",
    "thresh ={}\n",
    "\n",
    "n_class = 2\n",
    "\n",
    "for i in range(n_class):    \n",
    "    fpr[i], tpr[i], thresh[i] = roc_curve(generator_test.classes, Y_pred[:,i], pos_label=i)\n",
    "    #print(fpr[i],' -----' ,tpr[i],'-------', thresh[i])\n",
    "    \n",
    "# plotting    \n",
    "#plt.plot(fpr[0], tpr[0], linestyle='--',color='red', label='Normal')\n",
    "plt.plot(fpr[1], tpr[1], linestyle='solid',color='green', label='Tumor')\n",
    "plt.plot(r_rfpr, r_trpr, linestyle='--',color='blue', label='Random Thereshold')\n",
    "plt.title(' ROC curve')\n",
    "plt.xlabel('False Positive Rate')\n",
    "plt.ylabel('True Positive rate')\n",
    "plt.legend(loc='best')\n",
    "plt.savefig('VGG16_ROC',dpi=200); "
   ]
  },
  {
   "cell_type": "code",
   "execution_count": null,
   "id": "5c6a7405",
   "metadata": {},
   "outputs": [],
   "source": [
    "print(fpr[0])"
   ]
  },
  {
   "cell_type": "code",
   "execution_count": null,
   "id": "c60b8bb8",
   "metadata": {},
   "outputs": [],
   "source": [
    "print(fpr[1])"
   ]
  },
  {
   "cell_type": "code",
   "execution_count": null,
   "id": "6787c9a4",
   "metadata": {},
   "outputs": [],
   "source": [
    "print(tpr[0])"
   ]
  },
  {
   "cell_type": "code",
   "execution_count": null,
   "id": "d07d4262",
   "metadata": {},
   "outputs": [],
   "source": [
    "print(tpr[1])"
   ]
  },
  {
   "cell_type": "code",
   "execution_count": null,
   "id": "cd365f4a",
   "metadata": {},
   "outputs": [],
   "source": [
    "print(r_rfpr)"
   ]
  },
  {
   "cell_type": "code",
   "execution_count": null,
   "id": "25db9939",
   "metadata": {},
   "outputs": [],
   "source": [
    "print(r_trpr)"
   ]
  },
  {
   "cell_type": "code",
   "execution_count": null,
   "id": "cbfbe2cf",
   "metadata": {},
   "outputs": [],
   "source": [
    "from keras.models import load_model\n",
    "from keras.preprocessing import image\n",
    "import matplotlib.pyplot as plt\n",
    "import numpy as np\n",
    "import os\n",
    "\n",
    "\n",
    "def load_image(img_path, show=False):\n",
    "\n",
    "    img = image.load_img(img_path, target_size=(128, 256))\n",
    "    img_tensor = image.img_to_array(img)                    # (height, width, channels)\n",
    "    img_tensor = np.hsplit(img_tensor,2)[1]\n",
    "    img_tensor=np.expand_dims(img_tensor, axis=0)         # (1, height, width, channels), add a dimension because the model expects this shape: (batch_size, height, width, channels)\n",
    "    img_tensor /= 255.                                      # imshow expects values in the range [0, 1]\n",
    "\n",
    "    if show:\n",
    "        plt.imshow(img_tensor[0])                           \n",
    "        plt.axis('off')\n",
    "        plt.show()\n",
    "\n",
    "    return img_tensor\n",
    "\n",
    "\n",
    "if __name__ == \"__main__\":\n",
    "\n",
    "    # load model\n",
    "    model = load_model(\"VGG16.h5\")\n",
    "\n",
    "    # image path\n",
    "    #img_path = \"E:/Final_Dataset_Thesis/full image/normal/Normal- (4981).jpg\"   # normal\n",
    "    img_path = \"E:/Final_Dataset_Thesis/full image/Test/tumor/Tumor- (1411).jpg\"     # tumor\n",
    "\n",
    "    # load a single image\n",
    "    new_image = load_image(img_path)\n",
    "\n",
    "    # check prediction\n",
    "    pred = model.predict(new_image)\n",
    "    print(pred)\n",
    "    m=np.argmax(pred,axis=1)\n",
    "    print('Predicted:', m)"
   ]
  },
  {
   "cell_type": "code",
   "execution_count": null,
   "id": "b67cc908",
   "metadata": {},
   "outputs": [],
   "source": []
  }
 ],
 "metadata": {
  "kernelspec": {
   "display_name": "Python 3 (ipykernel)",
   "language": "python",
   "name": "python3"
  },
  "language_info": {
   "codemirror_mode": {
    "name": "ipython",
    "version": 3
   },
   "file_extension": ".py",
   "mimetype": "text/x-python",
   "name": "python",
   "nbconvert_exporter": "python",
   "pygments_lexer": "ipython3",
   "version": "3.8.10"
  },
  "latex_envs": {
   "LaTeX_envs_menu_present": true,
   "autoclose": false,
   "autocomplete": true,
   "bibliofile": "biblio.bib",
   "cite_by": "apalike",
   "current_citInitial": 1,
   "eqLabelWithNumbers": true,
   "eqNumInitial": 1,
   "hotkeys": {
    "equation": "Ctrl-E",
    "itemize": "Ctrl-I"
   },
   "labels_anchors": false,
   "latex_user_defs": false,
   "report_style_numbering": false,
   "user_envs_cfg": false
  },
  "varInspector": {
   "cols": {
    "lenName": 16,
    "lenType": 16,
    "lenVar": 40
   },
   "kernels_config": {
    "python": {
     "delete_cmd_postfix": "",
     "delete_cmd_prefix": "del ",
     "library": "var_list.py",
     "varRefreshCmd": "print(var_dic_list())"
    },
    "r": {
     "delete_cmd_postfix": ") ",
     "delete_cmd_prefix": "rm(",
     "library": "var_list.r",
     "varRefreshCmd": "cat(var_dic_list()) "
    }
   },
   "types_to_exclude": [
    "module",
    "function",
    "builtin_function_or_method",
    "instance",
    "_Feature"
   ],
   "window_display": false
  }
 },
 "nbformat": 4,
 "nbformat_minor": 5
}
